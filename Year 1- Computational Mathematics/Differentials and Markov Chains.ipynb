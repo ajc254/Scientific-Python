{
 "cells": [
  {
   "cell_type": "markdown",
   "metadata": {},
   "source": [
    "# Differential Equations & Markov Chains\n",
    "\n",
    "\n",
    "\n"
   ]
  },
  {
   "cell_type": "code",
   "execution_count": 65,
   "metadata": {
    "collapsed": true
   },
   "outputs": [],
   "source": [
    "# import the numpy package in the np namespace\n",
    "import numpy  as np\n",
    "\n",
    "# this line will load the plotting function into the namespace plt.\n",
    "import matplotlib.pyplot as plt\n",
    "\n",
    "# the following lines prevent Python from opening new windows for figures. \n",
    "%matplotlib inline"
   ]
  },
  {
   "cell_type": "markdown",
   "metadata": {},
   "source": [
    "## Q1: Differential Equations \n",
    "\n",
    "Consider the following initial value problem,\n",
    "\n",
    "$$ \\frac{dy}{dx} = x + \\frac{y}{5}, \\hspace{1cm} y(0) = -3 $$\n",
    "\n",
    "1a) Write a program to apply the Euler's method to obtain the numerical (approximated) solution, with step sizes of 1, 0.2, and 0.05 on the interval [0, 5], respectively.\n",
    "\n",
    "1b) Work out the analytical (exact) results. Plot figures to compare the numerical results to the analytical results on the interval [0, 5]. Discuss the comparison results."
   ]
  },
  {
   "cell_type": "markdown",
   "metadata": {},
   "source": [
    "### Part 1a)"
   ]
  },
  {
   "cell_type": "code",
   "execution_count": 66,
   "metadata": {},
   "outputs": [],
   "source": [
    "from math import e\n",
    "\n",
    "def eulers(y_init, x_init, x_lim, step_size ):\n",
    "    \"\"\"\n",
    "    Calculates an estimation array of values  to a function subject to parameters and step size.\n",
    "    The estimation array is returned.\n",
    "    \n",
    "    Arguments:\n",
    "    'y_init': The initial y value to be used in the estimation.\n",
    "    'x_init': The initial x value to be used in the estimation.\n",
    "    'x_lim': The final x value to estimate.\n",
    "    'step_size': The difference between x values used in the estimation.\n",
    "    \"\"\"\n",
    "    \n",
    "    steps = int (x_lim / step_size)    #Calculate number of steps needed.\n",
    "    \n",
    "    #Initialise the estimation array with the initial y value.\n",
    "    estimation = np.zeros(steps + 1)\n",
    "    estimation[0] = y_init\n",
    "    \n",
    "    #Add following estimations to the array, using Euler's estimation algorithm.\n",
    "    for n in range( 0, steps ):\n",
    "        \n",
    "        estimation[n + 1] = estimation[n] + step_size*(x_init + estimation[n]/5 )\n",
    "        x_init += step_size\n",
    "        \n",
    "        \n",
    "    return estimation\n",
    "\n",
    "\n",
    "def plot( x_min, x_max, step_size, estimation, line):\n",
    "    \"\"\"\n",
    "    Plots an exact function, as well as estimate values on the same graph for comparison.\n",
    "    \n",
    "    Arguments:\n",
    "    'x_min': The first x value to plot.\n",
    "    'x_max': The final x value to plot.\n",
    "    'step_size': The difference between each plotted x value.\n",
    "    'estimation': The array of estimated values.\n",
    "    'line': The type of line to draw for the estimated values.\n",
    "    \"\"\"\n",
    "    \n",
    "    x = np.linspace(x_min, x_max)\n",
    "    y = -5*x - 25 + 22*np.exp(x/5)\n",
    "    plt.plot(x, y)    #Plot the x and y values for the exact function.\n",
    "    \n",
    "    #Iterate over the estimation array Plotting the values on the same graph.\n",
    "    for i in range( 0, len(estimation) ):\n",
    "        plt.plot(x_min, estimation[i], line)\n",
    "        plt.legend(['exact', 'numerical'], loc = 'upper left')\n",
    "        plt.xlabel('$x$')\n",
    "        plt.xlim(0, 5)\n",
    "        plt.ylabel('$f(x)$')\n",
    "        x_min += step_size\n"
   ]
  },
  {
   "cell_type": "markdown",
   "metadata": {},
   "source": [
    "### Part 1b)\n",
    "\n",
    "$$ \\frac{dy}{dx} = x + \\frac{y}{5} $$\n",
    "\n",
    "Separate the variables to either side of the equation and rearrange to satisfy the form $\\frac{dy}{dx} + P(x)y = Q(x)$.\n",
    "\n",
    "$$ \\frac{dy}{dx} - \\frac{y}{5} = x $$\n",
    "\n",
    "Where $P(x)$ is simply the constant $-\\frac{1}{5}$, $Q(x) = x$, and so the integrating factor $\\rho(x) = e^{\\int-\\frac{1}{5}dx} = e^{-\\frac{x}{5}}$\n",
    "\n",
    "Multiply both sides by the integrating factor:\n",
    "\n",
    "$$ e^{-\\frac{x}{5}}\\frac{dy}{dx} - \\frac{1}{5}e^{-\\frac{x}{5}}y = xe^{-\\frac{x}{5}} $$\n",
    "\n",
    "Recognise the left hand side as a product of differentiation with respect to $x$:\n",
    "\n",
    "$$ Dx[e^{-\\frac{x}{5}}y] = xe^{-\\frac{x}{5}} $$\n",
    "\n",
    "Integrate both sides with respect to $x$:\n",
    "\n",
    "$$ \\int{ Dx[e^{-\\frac{x}{5}}y] } = \\int{ xe^{-\\frac{x}{5}} }dx $$\n",
    "$$ e^{-\\frac{x}{5}}y = \\int{ xe^{-\\frac{x}{5}} }dx $$\n",
    "\n",
    "Use By Parts to integrate the right hand side:\n",
    "$$u = x \\hspace{1cm} v' = e^{-\\frac{x}{5}}$$\n",
    "$$u' = 1 \\hspace{1cm} v = -5e^{-\\frac{x}{5}}$$\n",
    "\n",
    "$$ e^{-\\frac{x}{5}}y = -5xe^{-\\frac{x}{5}} +5\\int{ e^{-\\frac{x}{5}} }dx $$\n",
    "$$ e^{-\\frac{x}{5}}y = -5xe^{-\\frac{x}{5}} -25e^{-\\frac{x}{5}} + c $$\n",
    "\n",
    "Use the initial value (where $x$=0, $y$=-3)  to calculate the constant $c$:\n",
    "\n",
    "$$ e^{-\\frac{0}{5}}(-3) = -5(0)e^{-\\frac{0}{5}} -25e^{-\\frac{0}{5}} + c $$\n",
    "\n",
    "$$ -3 = -25 + c $$\n",
    "\n",
    "$$ c = 22 $$\n",
    "\n",
    "Overall we now have:\n",
    "\n",
    "$$ e^{-\\frac{x}{5}}y = -5xe^{-\\frac{x}{5}} -25e^{-\\frac{x}{5}} + 22 $$\n",
    "\n",
    "Simplify by dividing through by $e^{-\\frac{x}{5}}$ to reach the final result of:\n",
    "\n",
    "$$ y = -5x - 25 + 22e^{\\frac{x}{5}} $$"
   ]
  },
  {
   "cell_type": "code",
   "execution_count": 67,
   "metadata": {},
   "outputs": [
    {
     "data": {
      "image/png": "[encoded data removed]",
      "text/plain": [
       "<matplotlib.figure.Figure at 0x1fcc8bc7080>"
      ]
     },
     "metadata": {},
     "output_type": "display_data"
    },
    {
     "data": {
      "image/png": "[encoded data removed]",
      "text/plain": [
       "<matplotlib.figure.Figure at 0x1fcc47da0b8>"
      ]
     },
     "metadata": {},
     "output_type": "display_data"
    },
    {
     "data": {
      "image/png": "[encoded data removed]",
      "text/plain": [
       "<matplotlib.figure.Figure at 0x1fcc79ebc18>"
      ]
     },
     "metadata": {},
     "output_type": "display_data"
    }
   ],
   "source": [
    "#Plot 3 different graphs, with the required different step sizes.\n",
    "plot( 0, 5, 1, eulers(-3, 0, 5, 1), \"ro\")\n",
    "plt.title(\"Step size of 1\")\n",
    "plt.show()\n",
    "plot( 0, 5, 0.2, eulers(-3, 0, 5, 0.2), \"ro\")\n",
    "plt.title(\"Step size of 0.2\")\n",
    "plt.show()\n",
    "plot( 0, 5, 0.05, eulers(-3, 0, 5, 0.05), \"ro\")\n",
    "plt.title(\"Step size of 0.05\")\n",
    "plt.show()"
   ]
  },
  {
   "cell_type": "markdown",
   "metadata": {},
   "source": [
    "By analysing the graphs, we and clearly see that as the step size decreases, eulers formula generates a more acccurate estimate of the function. This is because there is smaller margin for error in between point calculations."
   ]
  },
  {
   "cell_type": "markdown",
   "metadata": {},
   "source": [
    "## Q2: Markov Chains\n"
   ]
  },
  {
   "cell_type": "markdown",
   "metadata": {},
   "source": [
    "Consider the two Markov chains in the Example(2) and Example(3) of the lecture slides for Markov Chains (slide 7 and slide 8). For the Example(3), set $\\alpha = 0.3$, $\\beta = 0.4$ and $N = 30$. Work out the following problems for each of these two Markov chains. \n",
    "\n",
    "2a) Write a program to run 100 trials where each trial records the state of the markov chain after 100 moves and each trial has a random initial state. This program should draw a figure showing the percentage of trials against various states.\n",
    "\n",
    "2b) Whether the Markov chain has a steady-state distribution? Explain your answer. Work out the steady-state distribution analytically if it exists. Draw a figure showing the steady-state probabilities against various states.\n",
    "\n",
    "2c) If the steady-state distribution exists, compare the figures obtained in 2b) and 2a), observe any difference and explain the reason. Increase and decrease the number of trials (e.g., 200 and 50) in 2a), compare the figures obtained in 2b) and 2a) again, observe the change of difference and explain your observation.\n"
   ]
  },
  {
   "cell_type": "markdown",
   "metadata": {},
   "source": [
    "### Part 2a)"
   ]
  },
  {
   "cell_type": "code",
   "execution_count": 68,
   "metadata": {},
   "outputs": [
    {
     "data": {
      "image/png": "[encoded data removed]",
      "text/plain": [
       "<matplotlib.figure.Figure at 0x1fcc8bad8d0>"
      ]
     },
     "metadata": {},
     "output_type": "display_data"
    },
    {
     "data": {
      "image/png": "[encoded data removed]",
      "text/plain": [
       "<matplotlib.figure.Figure at 0x1fcc8bad1d0>"
      ]
     },
     "metadata": {},
     "output_type": "display_data"
    }
   ],
   "source": [
    "def transition_matrix(number_states, a, b, absorbing):\n",
    "    \"\"\"\n",
    "    calculates a transition matrix of using probabilities for a given number of states.\n",
    "    The transition matrix is returned.\n",
    "    \n",
    "    Arguments:\n",
    "    'number_states': The number of states, not inclusive of state 0.\n",
    "    'a': probability of alpha, defining probability of advancing state.\n",
    "    'b': probability of beta, defining probability of lowering state.\n",
    "    'absorbing': Defines whether the start and end state are absorbing or not.\n",
    "    \"\"\"\n",
    "    \n",
    "    #Initialise the transition matrix, with the correct number of states.\n",
    "    transition_matrix = np.zeros( shape=( number_states+1, number_states+1 ))\n",
    "    \n",
    "    #General case, fill in probability values for alpha and beta at each row.\n",
    "    for i in range( 0, number_states ):\n",
    "        transition_matrix[i][i] = 1-a-b\n",
    "        if i != 0:\n",
    "            transition_matrix[i][i-1] = b\n",
    "        if i != number_states:\n",
    "            transition_matrix[i][i+1] = a\n",
    "    \n",
    "    #End cases if absobing.\n",
    "    if absorbing == True:\n",
    "        transition_matrix[0][0] = 1\n",
    "        transition_matrix[0][1] = 0\n",
    "        transition_matrix[number_states][number_states] = 1\n",
    "        transition_matrix[number_states][number_states-1] = 0\n",
    "    \n",
    "    #End cases if not absorbing.\n",
    "    else:\n",
    "        transition_matrix[0][0] = 1-a\n",
    "        transition_matrix[0][1] = a\n",
    "        transition_matrix[number_states][number_states] = 1-b\n",
    "        transition_matrix[number_states][number_states-1] = b\n",
    "    \n",
    "    return transition_matrix\n",
    "\n",
    "\n",
    "\n",
    "def run_trial( number_moves, transition_matrix, possible_states ):\n",
    "    \"\"\"\n",
    "    runs a trial with a specified number of moves using states and a transition matrix.\n",
    "    The final state that was reached after the trial is returned.\n",
    "    \n",
    "    Arguments:\n",
    "    'number_moves': number of moves consisted in the trial.\n",
    "    'transition_matrix': matrix definig the probabilities of different states.\n",
    "    'possible_states: all possible states, in correct order.\n",
    "    \"\"\"\n",
    "        \n",
    "    #Initially choose a random state.\n",
    "    state = np.random.choice( possible_states )\n",
    "\n",
    "    #repeat movement of states subject to probabilities in transition matrix 'number_moves' times.\n",
    "    for i in range( 0, number_moves ):\n",
    "        state = np.random.choice( possible_states, replace=True, p=transition_matrix[state] )\n",
    "\n",
    "    return state\n",
    "\n",
    "def plot_trials( possible_states, number_moves, a, b, number_trials, absorbing=False, bar_size=1 ):\n",
    "    \"\"\"\n",
    "    Plots a number of trials on a graph, comparing the number of times trials ended on certain states.\n",
    "    \n",
    "    Arguments:\n",
    "    'possible_states': all possible states, in correct order.\n",
    "    'number_moves': number of moves consisted in a single trial.\n",
    "    'a': probability of alpha, defining probability of advancing state.\n",
    "    'b': probability of beta, defining probability of lowering state.\n",
    "    'number_trials': number of trials to perform.\n",
    "    'absorbing': Defines whether the start and end state are absorbing or not.\n",
    "    'bar_size': size of the bars in the graph.\n",
    "    \"\"\"\n",
    "    \n",
    "    #Initialise an array to count the number of times each state was the result of a trial.\n",
    "    counter = [0]*len( possible_states )\n",
    "\n",
    "    #run 'trial_number' trials, keep track of results in 'counter'.\n",
    "    for trial_number in range( 0, number_trials ):\n",
    "        \n",
    "        matrix = transition_matrix( len( possible_states ) - 1 , a, b, absorbing )\n",
    "        counter[run_trial( number_moves, matrix, possible_states )] += 1\n",
    "        \n",
    "    #convert counter values to percentages.\n",
    "    percentages = [(value/number_trials)*100 for value in counter]\n",
    "    \n",
    "    #Plot the graph.\n",
    "    y = percentages\n",
    "    x = range( 0, len(possible_states) )\n",
    "    plt.bar( x, y, bar_size)\n",
    "    plt.xlabel('Final State')\n",
    "    plt.ylabel('Percentage of trials (%)')\n",
    "    plt.show()\n",
    "    \n",
    "    \n",
    "plt.figure(figsize=(15,5))\n",
    "plt.title( \"Example 2\")\n",
    "plt.xlim(0, 101)    #Bars are displayed to the right of the number in the graph, hence 1 larger range than state number.\n",
    "plot_trials( np.arange(0, 101), 100, 0.5, 0.5, 100, True, 1 )   #Run and plot the trials for example 2.\n",
    "\n",
    "plt.figure(figsize=(6,5))\n",
    "plt.title( \"Example 3\")\n",
    "plt.xlim(0, 31)\n",
    "plot_trials( np.arange(0, 31), 100, 0.3, 0.4, 100, False, 1 )    #Run and plot the trials for example 3.\n",
    "\n"
   ]
  },
  {
   "cell_type": "markdown",
   "metadata": {},
   "source": [
    "### Part 2b)"
   ]
  },
  {
   "cell_type": "markdown",
   "metadata": {},
   "source": [
    "I can conclude that example 2 does not have a steady state distribution. This is due to the fact that the chain has two nodes of which are absorbing, meaning a steady state would never be achieved. Once the state is encountered, there is no possibility of escaping that state. This is represented in the graph by examining that states 0 and 100 have a significantly higher probability to be a final state than the others, as they are both absorbing.\n",
    "\n",
    "On the contrary, example 3 has a steady state distribution as the Markov chain does not have any absorbing nodes and such does eventually model a steady state. This is worked out analytically below:"
   ]
  },
  {
   "cell_type": "code",
   "execution_count": 69,
   "metadata": {},
   "outputs": [
    {
     "data": {
      "image/png": "[encoded data removed]",
      "text/plain": [
       "<matplotlib.figure.Figure at 0x1fcc8fb8358>"
      ]
     },
     "metadata": {},
     "output_type": "display_data"
    }
   ],
   "source": [
    "def steady_state( number_states, a, b ):\n",
    "    \"\"\"\n",
    "    A function to calculate the steady state distribution for a Markov chain.\n",
    "    An array with the state probabilities is returned.\n",
    "    \n",
    "    Arguments:\n",
    "    'number_states': The number of states, not inclusive of state 0.\n",
    "    'a': probability of alpha, defining probability of advancing state.\n",
    "    'b': probability of beta, defining probability of lowering state.\n",
    "    \"\"\"\n",
    "    \n",
    "    #Initialise an array to hold the distribution probability values.\n",
    "    distribution = [0]*(number_states + 1)\n",
    "    \n",
    "    #Calculate the probablility for state 0\n",
    "    distribution[0] = (1 - a/b) / (1 - (a/b)**(number_states + 1) )\n",
    "    \n",
    "    #Use the state 0 probablility in the general formula covered in lectures to calculate other states.\n",
    "    for i in range( 1, number_states + 1 ):\n",
    "        distribution[i] = (a/b)**i * distribution[0]\n",
    "    \n",
    "    return distribution\n",
    "\n",
    "#Plot the distribution.\n",
    "x = range(0, 31)\n",
    "y = steady_state( 30, 0.3, 0.4 )\n",
    "plt.bar( x, y, 1)\n",
    "plt.title( \"Steady state distribution\")\n",
    "plt.xlabel('state')\n",
    "plt.ylabel('probability')\n",
    "plt.show()"
   ]
  },
  {
   "cell_type": "markdown",
   "metadata": {},
   "source": [
    "### Part 2c)\n",
    "\n",
    "By comparing this steady state distribution to the graph produced over 100 trials in part 2a) I can conclude that the 2a) graph of state percentages loosely resembles the steady state distribution graph. This is to be expected as we have already predicted this chain should eventually settle at a steady state (defined by this distribution graph).\n",
    "\n",
    "We can also understand why both graphs follow the trend of having a positive skew, this is because the probability of beta is larger than the probability of alpha. This means that the state is more likely to to decrease, hence why the final state is more likely to be on the lower end of the spectrum."
   ]
  },
  {
   "cell_type": "code",
   "execution_count": 70,
   "metadata": {},
   "outputs": [
    {
     "data": {
      "image/png": "[encoded data removed]",
      "text/plain": [
       "<matplotlib.figure.Figure at 0x1fcc745c320>"
      ]
     },
     "metadata": {},
     "output_type": "display_data"
    }
   ],
   "source": [
    "plt.figure(figsize=(6,5))\n",
    "plt.xlim(0, 31)\n",
    "plt.title( \"Using 50 trials:\")\n",
    "plot_trials( np.arange(0, 31), 100, 0.3, 0.4, 50, False, 1 )    #Run and plot 50 trials."
   ]
  },
  {
   "cell_type": "markdown",
   "metadata": {},
   "source": [
    "By decreasing the amount of trials, the behaviour resembles the steady state even less. This is because there are not enough results to indicate the steady state accurately yet, instead the results are impacted more by the random entry and due to the lack of the number of results, extreme results affect the graph more. This graph represents the steady state to the smallest accuracy."
   ]
  },
  {
   "cell_type": "code",
   "execution_count": 71,
   "metadata": {},
   "outputs": [
    {
     "data": {
      "image/png": "[encoded data removed]",
      "text/plain": [
       "<matplotlib.figure.Figure at 0x1fcc8eb4ba8>"
      ]
     },
     "metadata": {},
     "output_type": "display_data"
    }
   ],
   "source": [
    "plt.figure(figsize=(6,5))\n",
    "plt.title( \"Using 200 trials:\")\n",
    "plt.xlim(0, 31)\n",
    "plot_trials( np.arange(0, 31), 100, 0.3, 0.4, 200, False, 1 )    #Run and plot 200 trials."
   ]
  },
  {
   "cell_type": "markdown",
   "metadata": {},
   "source": [
    "Finally, by examining the graph for 200 trials we are able to see that there are enough results to reach the equilibrium of the steady state to a more precise level. Therefore this graph resembles the steady state graph to the highest accuracy."
   ]
  }
 ],
 "metadata": {
  "anaconda-cloud": {},
  "celltoolbar": "Raw Cell Format",
  "kernelspec": {
   "display_name": "Python 3",
   "language": "python",
   "name": "python3"
  },
  "language_info": {
   "codemirror_mode": {
    "name": "ipython",
    "version": 3
   },
   "file_extension": ".py",
   "mimetype": "text/x-python",
   "name": "python",
   "nbconvert_exporter": "python",
   "pygments_lexer": "ipython3",
   "version": "3.6.5"
  },
  "nbpresent": {
   "slides": {},
   "themes": {
    "default": "71be34f3-b127-4a12-a33e-213db7ac10ad",
    "theme": {
     "065e080e-bb66-4fd0-8f69-5c5a98dc2ae8": {
      "backgrounds": {
       "backgroundColor": {
        "background-color": "backgroundColor",
        "id": "backgroundColor"
       }
      },
      "id": "065e080e-bb66-4fd0-8f69-5c5a98dc2ae8",
      "palette": {
       "backgroundColor": {
        "id": "backgroundColor",
        "rgb": [
         256,
         256,
         256
        ]
       },
       "headingColor": {
        "id": "headingColor",
        "rgb": [
         0,
         0,
         0
        ]
       },
       "linkColor": {
        "id": "linkColor",
        "rgb": [
         0,
         0,
         139
        ]
       },
       "mainColor": {
        "id": "mainColor",
        "rgb": [
         0,
         0,
         0
        ]
       }
      },
      "rules": {
       "a": {
        "color": "linkColor"
       },
       "h1": {
        "color": "headingColor",
        "font-family": "News Cycle",
        "font-size": 7
       },
       "h2": {
        "color": "headingColor",
        "font-family": "News Cycle",
        "font-size": 5
       },
       "h3": {
        "color": "headingColor",
        "font-family": "News Cycle",
        "font-size": 3.75
       },
       "h4": {
        "color": "headingColor",
        "font-family": "News Cycle",
        "font-size": 3
       },
       "h5": {
        "color": "headingColor",
        "font-family": "News Cycle"
       },
       "h6": {
        "color": "headingColor",
        "font-family": "News Cycle"
       },
       "h7": {
        "color": "headingColor",
        "font-family": "News Cycle"
       },
       "li": {
        "color": "mainColor",
        "font-family": "Lato",
        "font-size": 5
       },
       "p": {
        "color": "mainColor",
        "font-family": "Lato",
        "font-size": 5
       }
      },
      "text-base": {
       "color": "mainColor",
       "font-family": "Lato",
       "font-size": 5
      }
     },
     "496b40c3-f49c-4bc7-ab8f-9dfb67515ead": {
      "id": "496b40c3-f49c-4bc7-ab8f-9dfb67515ead",
      "palette": {
       "19cc588f-0593-49c9-9f4b-e4d7cc113b1c": {
        "id": "19cc588f-0593-49c9-9f4b-e4d7cc113b1c",
        "rgb": [
         252,
         252,
         252
        ]
       },
       "31af15d2-7e15-44c5-ab5e-e04b16a89eff": {
        "id": "31af15d2-7e15-44c5-ab5e-e04b16a89eff",
        "rgb": [
         68,
         68,
         68
        ]
       },
       "50f92c45-a630-455b-aec3-788680ec7410": {
        "id": "50f92c45-a630-455b-aec3-788680ec7410",
        "rgb": [
         155,
         177,
         192
        ]
       },
       "c5cc3653-2ee1-402a-aba2-7caae1da4f6c": {
        "id": "c5cc3653-2ee1-402a-aba2-7caae1da4f6c",
        "rgb": [
         43,
         126,
         184
        ]
       },
       "efa7f048-9acb-414c-8b04-a26811511a21": {
        "id": "efa7f048-9acb-414c-8b04-a26811511a21",
        "rgb": [
         25.118061674008803,
         73.60176211453744,
         107.4819383259912
        ]
       }
      },
      "rules": {
       "blockquote": {
        "color": "50f92c45-a630-455b-aec3-788680ec7410"
       },
       "code": {
        "font-family": "Anonymous Pro"
       },
       "h1": {
        "color": "c5cc3653-2ee1-402a-aba2-7caae1da4f6c",
        "font-family": "Lato",
        "font-size": 8
       },
       "h2": {
        "color": "c5cc3653-2ee1-402a-aba2-7caae1da4f6c",
        "font-family": "Lato",
        "font-size": 6
       },
       "h3": {
        "color": "50f92c45-a630-455b-aec3-788680ec7410",
        "font-family": "Lato",
        "font-size": 5.5
       },
       "h4": {
        "color": "c5cc3653-2ee1-402a-aba2-7caae1da4f6c",
        "font-family": "Lato",
        "font-size": 5
       },
       "h5": {
        "font-family": "Lato"
       },
       "h6": {
        "font-family": "Lato"
       },
       "h7": {
        "font-family": "Lato"
       },
       "pre": {
        "font-family": "Anonymous Pro",
        "font-size": 4
       }
      },
      "text-base": {
       "font-family": "Merriweather",
       "font-size": 4
      }
     },
     "71be34f3-b127-4a12-a33e-213db7ac10ad": {
      "id": "71be34f3-b127-4a12-a33e-213db7ac10ad",
      "palette": {
       "19cc588f-0593-49c9-9f4b-e4d7cc113b1c": {
        "id": "19cc588f-0593-49c9-9f4b-e4d7cc113b1c",
        "rgb": [
         252,
         252,
         252
        ]
       },
       "31af15d2-7e15-44c5-ab5e-e04b16a89eff": {
        "id": "31af15d2-7e15-44c5-ab5e-e04b16a89eff",
        "rgb": [
         68,
         68,
         68
        ]
       },
       "50f92c45-a630-455b-aec3-788680ec7410": {
        "id": "50f92c45-a630-455b-aec3-788680ec7410",
        "rgb": [
         155,
         177,
         192
        ]
       },
       "c5cc3653-2ee1-402a-aba2-7caae1da4f6c": {
        "id": "c5cc3653-2ee1-402a-aba2-7caae1da4f6c",
        "rgb": [
         43,
         126,
         184
        ]
       },
       "efa7f048-9acb-414c-8b04-a26811511a21": {
        "id": "efa7f048-9acb-414c-8b04-a26811511a21",
        "rgb": [
         25.118061674008803,
         73.60176211453744,
         107.4819383259912
        ]
       }
      },
      "rules": {
       "blockquote": {
        "color": "50f92c45-a630-455b-aec3-788680ec7410"
       },
       "code": {
        "font-family": "Anonymous Pro"
       },
       "h1": {
        "color": "c5cc3653-2ee1-402a-aba2-7caae1da4f6c",
        "font-family": "Lato",
        "font-size": 8
       },
       "h2": {
        "color": "c5cc3653-2ee1-402a-aba2-7caae1da4f6c",
        "font-family": "Lato",
        "font-size": 6
       },
       "h3": {
        "color": "50f92c45-a630-455b-aec3-788680ec7410",
        "font-family": "Lato",
        "font-size": 5.5
       },
       "h4": {
        "color": "c5cc3653-2ee1-402a-aba2-7caae1da4f6c",
        "font-family": "Lato",
        "font-size": 5
       },
       "h5": {
        "font-family": "Lato"
       },
       "h6": {
        "font-family": "Lato"
       },
       "h7": {
        "font-family": "Lato"
       },
       "pre": {
        "font-family": "Anonymous Pro",
        "font-size": 4
       }
      },
      "text-base": {
       "font-family": "Merriweather",
       "font-size": 4
      }
     },
     "8478e228-d210-4404-937d-488e815d477b": {
      "id": "8478e228-d210-4404-937d-488e815d477b",
      "palette": {
       "19cc588f-0593-49c9-9f4b-e4d7cc113b1c": {
        "id": "19cc588f-0593-49c9-9f4b-e4d7cc113b1c",
        "rgb": [
         252,
         252,
         252
        ]
       },
       "31af15d2-7e15-44c5-ab5e-e04b16a89eff": {
        "id": "31af15d2-7e15-44c5-ab5e-e04b16a89eff",
        "rgb": [
         68,
         68,
         68
        ]
       },
       "50f92c45-a630-455b-aec3-788680ec7410": {
        "id": "50f92c45-a630-455b-aec3-788680ec7410",
        "rgb": [
         155,
         177,
         192
        ]
       },
       "c5cc3653-2ee1-402a-aba2-7caae1da4f6c": {
        "id": "c5cc3653-2ee1-402a-aba2-7caae1da4f6c",
        "rgb": [
         43,
         126,
         184
        ]
       },
       "efa7f048-9acb-414c-8b04-a26811511a21": {
        "id": "efa7f048-9acb-414c-8b04-a26811511a21",
        "rgb": [
         25.118061674008803,
         73.60176211453744,
         107.4819383259912
        ]
       }
      },
      "rules": {
       "blockquote": {
        "color": "50f92c45-a630-455b-aec3-788680ec7410"
       },
       "code": {
        "font-family": "Anonymous Pro"
       },
       "h1": {
        "color": "c5cc3653-2ee1-402a-aba2-7caae1da4f6c",
        "font-family": "Lato",
        "font-size": 8
       },
       "h2": {
        "color": "c5cc3653-2ee1-402a-aba2-7caae1da4f6c",
        "font-family": "Lato",
        "font-size": 6
       },
       "h3": {
        "color": "50f92c45-a630-455b-aec3-788680ec7410",
        "font-family": "Lato",
        "font-size": 5.5
       },
       "h4": {
        "color": "c5cc3653-2ee1-402a-aba2-7caae1da4f6c",
        "font-family": "Lato",
        "font-size": 5
       },
       "h5": {
        "font-family": "Lato"
       },
       "h6": {
        "font-family": "Lato"
       },
       "h7": {
        "font-family": "Lato"
       },
       "pre": {
        "font-family": "Anonymous Pro",
        "font-size": 4
       }
      },
      "text-base": {
       "font-family": "Merriweather",
       "font-size": 4
      }
     },
     "ac5fcae1-15e9-420a-a5c3-0e80a68dbb62": {
      "backgrounds": {
       "backgroundColor": {
        "background-color": "backgroundColor",
        "id": "backgroundColor"
       }
      },
      "id": "ac5fcae1-15e9-420a-a5c3-0e80a68dbb62",
      "palette": {
       "backgroundColor": {
        "id": "backgroundColor",
        "rgb": [
         256,
         256,
         256
        ]
       },
       "headingColor": {
        "id": "headingColor",
        "rgb": [
         0,
         0,
         0
        ]
       },
       "linkColor": {
        "id": "linkColor",
        "rgb": [
         0,
         0,
         139
        ]
       },
       "mainColor": {
        "id": "mainColor",
        "rgb": [
         0,
         0,
         0
        ]
       }
      },
      "rules": {
       "a": {
        "color": "linkColor"
       },
       "h1": {
        "color": "headingColor",
        "font-family": "News Cycle",
        "font-size": 7
       },
       "h2": {
        "color": "headingColor",
        "font-family": "News Cycle",
        "font-size": 5
       },
       "h3": {
        "color": "headingColor",
        "font-family": "News Cycle",
        "font-size": 3.75
       },
       "h4": {
        "color": "headingColor",
        "font-family": "News Cycle",
        "font-size": 3
       },
       "h5": {
        "color": "headingColor",
        "font-family": "News Cycle"
       },
       "h6": {
        "color": "headingColor",
        "font-family": "News Cycle"
       },
       "h7": {
        "color": "headingColor",
        "font-family": "News Cycle"
       },
       "li": {
        "color": "mainColor",
        "font-family": "Lato",
        "font-size": 5
       },
       "p": {
        "color": "mainColor",
        "font-family": "Lato",
        "font-size": 5
       }
      },
      "text-base": {
       "color": "mainColor",
       "font-family": "Lato",
       "font-size": 5
      }
     }
    }
   }
  }
 },
 "nbformat": 4,
 "nbformat_minor": 1
}
