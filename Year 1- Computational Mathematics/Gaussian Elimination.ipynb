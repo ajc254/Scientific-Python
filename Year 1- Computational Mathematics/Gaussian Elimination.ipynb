{
 "cells": [
  {
   "cell_type": "markdown",
   "metadata": {},
   "source": [
    "# CA 1: Solving linear equations with Gaussian elimination\n",
    "\n",
    "| Date set     | Hand-in date |\n",
    "|:------------------|:-----------------------------------|\n",
    "|1st February 2017  | **  Tuesday 15th February 2017** |\n",
    "\n",
    "\n",
    "Submit an electronic copy of your notebook via the  [electronic hand-in system](http://empslocal.ex.ac.uk/submit/).\n",
    "\n",
    "This CA is <b>formative</b> (the mark will not count toward the final module mark). \n"
   ]
  },
  {
   "cell_type": "markdown",
   "metadata": {},
   "source": [
    "\n",
    "\n",
    "Your report should consist of your IPython notebook showing what you did, what was the\n",
    "result, and what you can conclude from the exercise. Each report will be\n",
    "assessed on the following criteria:\n",
    "\n",
    "* Does it record what was done in the exercise?\n",
    "* Does it permit the results to be reproduced?\n",
    "* How does the work relate to the theoretical foundations discussed in lectures?\n",
    "* Is it well presented?\n",
    "\n",
    "### Submitting the reports\n",
    "\n",
    "Reports should be handed-in electronically at  <http://empslocal.ex.ac.uk/submit/>.  You just need to submit the single file that is the notebook, so you should be able to upload it directly from the directory on the Blue Room machine.  If you're not sure where in your homespace it is, type <code>pwd</code> (print working directory) in a cell to find out where the notebooks are."
   ]
  },
  {
   "cell_type": "code",
   "execution_count": 330,
   "metadata": {
    "collapsed": false,
    "scrolled": true
   },
   "outputs": [],
   "source": [
    "# import the numpy package in the np namespace\n",
    "import numpy  as np\n",
    "\n",
    "# this line will load the plotting function into the namespace plt.\n",
    "import matplotlib.pyplot as plt\n",
    "\n",
    "# the following lines prevent Python from opening new windows for figures. \n",
    "%matplotlib inline"
   ]
  },
  {
   "cell_type": "markdown",
   "metadata": {},
   "source": [
    "## Part 1: Implement Gaussian elimination \n",
    "In this part you are asked to implement Gaussian elimination as presented in the lectures. \n",
    "It is recommended to implement separate functions for generating the reduced row echelon form, and for solving it. \n"
   ]
  },
  {
   "cell_type": "markdown",
   "metadata": {},
   "source": [
    "Below I have used the method of gaussian elimination discussed in lectures to solve systems of linear equations. \n",
    "\n",
    "These could be of the form: $$Ax = B$$\n",
    "\n",
    "Where $A$ is a square matrix of coefficients, $B$ is a column matrix of constants and $x$ is a column matrix of unknown variables to be solved.\n",
    "\n",
    "To do this I have:\n",
    "\n",
    "- Made a function called \"reduced_row_echelon\" which calculates the reduced row echelon form as an augmented matrix $A|B$. \n",
    "\n",
    "\n",
    "- I have then made a function called \"solve_echelon\" which uses an augmented matrix in reduced row echelon form to solve and produce a column matrix of the unknown variables $x$ to be found.\n",
    "\n",
    "\n",
    "- Finally i have made a function called \"gaussian_elimination\" which uses both of the functions above to implement the whole guassian elimination process, allowing users to easily input $A$ and $B$ instantly outputting $x$."
   ]
  },
  {
   "cell_type": "code",
   "execution_count": 331,
   "metadata": {
    "collapsed": false
   },
   "outputs": [
    {
     "name": "stdout",
     "output_type": "stream",
     "text": [
      "Variables [x3, x2, x1] are:\n",
      " [[-12.]\n",
      " [ 10.]\n",
      " [  1.]]\n"
     ]
    }
   ],
   "source": [
    "\n",
    "def reduced_row_echelon( A, B ):\n",
    "    \"\"\"\n",
    "    Calculates the reduced row echelon form using two matrices 'A' and 'B'.\n",
    "    The augmented matrix (A|B) in reduced row echelon form is returned.\n",
    "    \n",
    "    Arguments:\n",
    "    'A': Matrix ceofficient.\n",
    "    'B': Column matrix of constants.\n",
    "    \n",
    "    Caveats:\n",
    "    'A' must be of square form.\n",
    "    'B' must have the same number of rows as 'A'.\n",
    "    \"\"\"\n",
    "\n",
    "    #Ensure 'A' is square.\n",
    "    rows_a, columns_a = np.shape( A )\n",
    "    assert rows_a == columns_a, 'A is not a square matrix.'\n",
    "\n",
    "    #Ensure 'B' has 1 column, and same number of rows as 'A'.\n",
    "    rows_b, columns_b = np.shape( B )\n",
    "    assert rows_b == rows_a, 'B does not have the same number of rows as A.'\n",
    "\n",
    "    #Form the augmented matrix.\n",
    "    augmented_matrix = np.c_[A, B]\n",
    "    pivot_row = 0\n",
    "\n",
    "    #Assign the pivot to the next diagonal location, until end of matrix is reached.\n",
    "    while pivot_row < rows_a:\n",
    "        pivot = augmented_matrix[pivot_row, pivot_row]\n",
    "\n",
    "        #Iterate down the pivot column, by accessing the rows.\n",
    "        for row in range( pivot_row, rows_a ):\n",
    "            \n",
    "            if row == pivot_row:    #If diagonal location, make this value 1.\n",
    "                augmented_matrix[row] /= pivot\n",
    "                normalised_row = augmented_matrix[row]\n",
    "\n",
    "            #Otheriwse zero the rest of the elements below.\n",
    "            else:\n",
    "                element_to_zero = augmented_matrix[row, pivot_row]\n",
    "                #Exploit that the normalised row will always have 1 in this column.\n",
    "                augmented_matrix[row] -= normalised_row*element_to_zero\n",
    "                \n",
    "        pivot_row += 1\n",
    "            \n",
    "    return augmented_matrix\n",
    "\n",
    "\n",
    "\n",
    "def solve_echelon( echelon_matrix ):\n",
    "    \"\"\"\n",
    "    Solves a matrix in reduced row echelon form, returning a column matrix of the \n",
    "    solved variables.\n",
    "    \n",
    "    Arguments:\n",
    "    'echelon_matrix': The matrix to be solved in reduced row echelon form.\n",
    "    \n",
    "    Caveats:\n",
    "    Only a matrix in reduced row echelon form will function properly.\n",
    "    (square matrix augmented with a column constant matrix).\n",
    "    \"\"\"\n",
    "    \n",
    "    #Ensure matrix is of correct echelon shape.\n",
    "    number_rows, number_columns = np.shape( echelon_matrix )\n",
    "    assert number_columns == 1 + number_rows, 'The matrix is not in the correct echelon form.'\n",
    "    \n",
    "    #Separate the constants matrix from the reduced row echelon.\n",
    "    constants = echelon_matrix[:,number_rows]\n",
    "    echelon_matrix = echelon_matrix[:,:number_rows]\n",
    "    variables = np.matrix( np.zeros( (number_rows, 1) ))    #Initialise variables matrix.\n",
    "    \n",
    "    #Iterate over rows, starting at bottom of matrix, finishing at the top.\n",
    "    for row in range( number_rows - 1, -1, -1 ):\n",
    "        \n",
    "        #Immediate assignment for the last row in the matrix.\n",
    "        if row == number_rows - 1:\n",
    "            variables[row] = constants[row]\n",
    "        \n",
    "        #General case, use matrix product to caluculate the next corresponding unknown variable.\n",
    "        else:\n",
    "            variables[row] = constants[row] - echelon_matrix[row, row+1:]*variables[row+1:]\n",
    "            \n",
    "    return variables\n",
    "\n",
    "\n",
    "\n",
    "def gaussian_elimination( A, B ):\n",
    "    \"\"\"\n",
    "    Performs the full guassian elimination algorithm to solve unknown varibles matrix 'x'\n",
    "    in equation form 'Ax = B'. A column marix of the solved variables is returned.\n",
    "    \n",
    "    Arguments:\n",
    "    Input the matrices 'A' and 'B' corresponding to this equation.\n",
    "    \n",
    "    Caveats:\n",
    "    'A' must be of square form.\n",
    "    'B' must have only 1 column and the same number of rows as 'A'.\n",
    "    \"\"\"\n",
    "    \n",
    "    #Calculate the solved variables column matrix.\n",
    "    solved_variables = solve_echelon( reduced_row_echelon( A, B ) )\n",
    "    \n",
    "    return solved_variables\n",
    "\n",
    "\n",
    "\n",
    "#Example used in lectures:\n",
    "A = np.matrix([\n",
    "            [3., 4., 9.],\n",
    "            [6., 7., 9.],\n",
    "            [9., 10., 11.]\n",
    "            ])\n",
    "\n",
    "B = np.matrix([\n",
    "            [13.],\n",
    "            [7.],\n",
    "            [3.]\n",
    "            ])\n",
    "\n",
    "print(\"Variables [x3, x2, x1] are:\\n\", gaussian_elimination( A, B ))\n",
    "\n"
   ]
  },
  {
   "cell_type": "markdown",
   "metadata": {},
   "source": [
    "## Part 2: Finding solution to a linear problem\n",
    "In this part, you will be asked to use the functions you have implemented in part 1 to solve a simple problem. \n",
    "\n",
    "<b>Problem statement</b> \n",
    "You want to find a linear transformation by a set of points before and after the transformation.\n",
    "\n",
    "2a) try with the following set of points"
   ]
  },
  {
   "cell_type": "code",
   "execution_count": 332,
   "metadata": {
    "collapsed": false,
    "scrolled": true
   },
   "outputs": [
    {
     "data": {
      "image/png": "[encoded data removed]",
      "text/plain": [
       "<matplotlib.figure.Figure at 0x26bc0a0efd0>"
      ]
     },
     "metadata": {},
     "output_type": "display_data"
    }
   ],
   "source": [
    "def show_before_after(x,y): \n",
    "    plt.plot(x[:,0], x[:,1], 'rx', y[:,0], y[:,1], 'go')\n",
    "    plt.ylim([-5,5])\n",
    "    plt.xlim([-5,5])\n",
    "    plt.legend(('before', 'after'), loc=4)\n",
    "    plt.title('Points before and after transformation')\n",
    "\n",
    "\n",
    "# matrix of points before transformation, one point per row\n",
    "x = np.matrix(\n",
    "[[ 1.,   2. ],\n",
    " [ 2.,   1. ],\n",
    " [ 0.,   3. ],\n",
    " [ 2.,   0.5]])\n",
    "\n",
    "# matrix of points after transformation, one point per row\n",
    "y = np.matrix(\n",
    "[[ 2.75,   3.25 ],\n",
    " [ 3.25,   2.75 ],\n",
    " [ 2.25,   3.75 ],\n",
    " [ 2.875,  2.125]])\n",
    "\n",
    "show_before_after(x,y)\n",
    "plt.show()"
   ]
  },
  {
   "cell_type": "markdown",
   "metadata": {},
   "source": [
    "We have here a problem of the form $Ax = B$, where $A$ is the transformation matrix to be found, $x$ is a matrix of points before transformation, and $B$ is a matrix of the points after the transformation. \n",
    "From looking at this problem I can see two immediate methods I could implement utilising the functions I have already made.\n",
    "\n",
    "\n",
    "Method 1) Using diagonalisation to calculate inverse.\n",
    "\n",
    "By taking the first two points, I could say that:\n",
    "$$x = \n",
    " \\begin{pmatrix}\n",
    "  1 & 2 \\\\\n",
    "  2 & 1\n",
    "  \\end{pmatrix}$$\n",
    " and hence: \n",
    " $$B = \n",
    "  \\begin{pmatrix}\n",
    "  2.75 & 3.25 \\\\\n",
    "  3.25 & 2.75\n",
    " \\end{pmatrix}$$ "
   ]
  },
  {
   "cell_type": "code",
   "execution_count": 333,
   "metadata": {
    "collapsed": true
   },
   "outputs": [],
   "source": [
    "#Initialise x\n",
    "x = np.matrix([\n",
    "            [1., 2.],\n",
    "            [2., 1.]\n",
    "            ])\n",
    "\n",
    "#Initialise B\n",
    "B = np.matrix([\n",
    "            [2.75, 3.25],\n",
    "            [3.25, 2.75]\n",
    "            ])"
   ]
  },
  {
   "cell_type": "markdown",
   "metadata": {},
   "source": [
    "To find $A$, I could rearrange to formulate $A = Bx^{-1}$. So I need to calculate $x^{-1}$. This can be achieved by formulating the augmented matrix between $x$ and it's identity matrix:\n",
    "$$[A|I] = \\begin{pmatrix}\n",
    "  1 & 2 \\\\\n",
    "  2 & 1\n",
    "  \\end{pmatrix}\n",
    "  |\n",
    "  \\begin{pmatrix}\n",
    "  1 & 0 \\\\\n",
    "  0 & 1\n",
    "  \\end{pmatrix}$$"
   ]
  },
  {
   "cell_type": "code",
   "execution_count": 334,
   "metadata": {
    "collapsed": true
   },
   "outputs": [],
   "source": [
    "identity = np.matrix([\n",
    "            [1., 0.],\n",
    "            [0., 1.,]\n",
    "             ])"
   ]
  },
  {
   "cell_type": "markdown",
   "metadata": {},
   "source": [
    "I then need to use operations to transform the left hand of the augmented matrix into the identity matrix, this will calculate $x^{-1}$ on the right hand side. I can use my \"reduced_row_echelon\" function to transform the left hand side into a reduced row echelon. I can then easily follow this up with a simple elementary row operation to produce the identity matrix as follows:"
   ]
  },
  {
   "cell_type": "code",
   "execution_count": 335,
   "metadata": {
    "collapsed": false,
    "scrolled": true
   },
   "outputs": [
    {
     "name": "stdout",
     "output_type": "stream",
     "text": [
      "Echelon form: \n",
      " [[ 1.          2.          1.          0.        ]\n",
      " [-0.          1.          0.66666667 -0.33333333]] \n",
      "\n",
      "Identity form:\n",
      " [[ 1.          0.         -0.33333333  0.66666667]\n",
      " [-0.          1.          0.66666667 -0.33333333]] \n",
      "\n"
     ]
    }
   ],
   "source": [
    "#Convert to echelon form.\n",
    "augmented = reduced_row_echelon( x, identity )\n",
    "print(\"Echelon form: \\n\", augmented, \"\\n\")\n",
    "\n",
    "#Convert to Identity form with an elementary row operation.\n",
    "augmented[0] -= augmented[1]*augmented[0, 1]\n",
    "print(\"Identity form:\\n\", augmented, \"\\n\")"
   ]
  },
  {
   "cell_type": "markdown",
   "metadata": {},
   "source": [
    "Now the right hand side is $x^{-1}$. Therefore the final operation to find the transformation matrix $A$ is to perform a matrix product between $B$ and $x^{-1}$:"
   ]
  },
  {
   "cell_type": "code",
   "execution_count": 336,
   "metadata": {
    "collapsed": false
   },
   "outputs": [
    {
     "name": "stdout",
     "output_type": "stream",
     "text": [
      "Inverse of x:\n",
      " [[-0.33333333  0.66666667]\n",
      " [ 0.66666667 -0.33333333]] \n",
      "\n",
      "Transformation:\n",
      " [[ 1.25  0.75]\n",
      " [ 0.75  1.25]]\n"
     ]
    }
   ],
   "source": [
    "#Discard the left hand side identity matrix.\n",
    "x_inverse = augmented[:,2:4]\n",
    "print(\"Inverse of x:\\n\", x_inverse, \"\\n\")\n",
    "\n",
    "#Perform the matrix product between x inverse, and B.\n",
    "transformation = B*x_inverse\n",
    "print(\"Transformation:\\n\", transformation)"
   ]
  },
  {
   "cell_type": "markdown",
   "metadata": {},
   "source": [
    "And so from above, I can conclude the transformation matrix ($A$) is:\n",
    "\n",
    " $$A = \n",
    "  \\begin{pmatrix}\n",
    "  1.25 & 0.75 \\\\\n",
    "  0.75 & 1.25\n",
    " \\end{pmatrix}$$ "
   ]
  },
  {
   "cell_type": "markdown",
   "metadata": {},
   "source": [
    "Method 2) Simultaneous equation solving, (utilising both my functions).\n",
    "\n",
    "By assuming that the linear transformation matrix is 2x2, this can be modelled as follows:\n",
    "\n",
    "$$\\begin{pmatrix}\n",
    "  a & b \\\\\n",
    "  c & d\n",
    "  \\end{pmatrix}$$\n",
    "  \n",
    "By performing matrix product on each of the first sets of points, and equalling to the corresponding transformed points I can reduce down a set of simultaneous equations that can be used to solve the variables in the matrix:\n",
    "\n",
    "$3a + 3b = 6$\n",
    "\n",
    "$2a + 3.5b = 5.125$\n",
    "\n",
    "$3c + 3d = 6$\n",
    "\n",
    "$2c + 3.5d = 5.875$\n",
    "\n",
    "I can formulate this problem using matrices:\n",
    "\n",
    "Solving for $a$ and $b$:\n",
    "$$\\begin{pmatrix}\n",
    "  3 & 3 \\\\\n",
    "  2 & 3.5\n",
    "  \\end{pmatrix}\n",
    "  \\begin{pmatrix}\n",
    "  a \\\\\n",
    "  b\n",
    "  \\end{pmatrix}\n",
    "  =\n",
    "  \\begin{pmatrix}\n",
    "  6 \\\\\n",
    "  5.125\n",
    "  \\end{pmatrix}$$\n",
    "  \n",
    "Solving for $c$ and $d$:\n",
    "$$\\begin{pmatrix}\n",
    "  3 & 3 \\\\\n",
    "  2 & 3.5\n",
    "  \\end{pmatrix}\n",
    "  \\begin{pmatrix}\n",
    "  c \\\\\n",
    "  d\n",
    "  \\end{pmatrix}\n",
    "  =\n",
    "  \\begin{pmatrix}\n",
    "  6 \\\\\n",
    "  5.875\n",
    "  \\end{pmatrix}$$\n",
    "  \n",
    "  I implement this below:"
   ]
  },
  {
   "cell_type": "code",
   "execution_count": 337,
   "metadata": {
    "collapsed": false
   },
   "outputs": [
    {
     "name": "stdout",
     "output_type": "stream",
     "text": [
      "a and b solutions: \n",
      " [[ 1.25]\n",
      " [ 0.75]] \n",
      "\n",
      "c and d solutions: \n",
      " [[ 0.75]\n",
      " [ 1.25]] \n",
      "\n",
      "transformation:\n",
      " [[ 1.25  0.75]\n",
      " [ 0.75  1.25]]\n"
     ]
    }
   ],
   "source": [
    "ab_coefficients = np.matrix([\n",
    "            [3., 3.],\n",
    "            [2., 3.5,]\n",
    "             ])\n",
    "ab_constants = np.matrix([\n",
    "            [6.],\n",
    "            [5.125]\n",
    "             ])\n",
    "\n",
    "cd_coefficients = np.matrix([\n",
    "            [3., 3.],\n",
    "            [2., 3.5,]\n",
    "             ])\n",
    "cd_constants = np.matrix([\n",
    "            [6.],\n",
    "            [5.875]\n",
    "             ])\n",
    "\n",
    "#Perform the full gaussian elimination.\n",
    "ab = gaussian_elimination( ab_coefficients, ab_constants )\n",
    "cd = gaussian_elimination( cd_coefficients, cd_constants )\n",
    "\n",
    "print(\"a and b solutions: \\n\", ab, \"\\n\")\n",
    "print(\"c and d solutions: \\n\", cd, \"\\n\")\n",
    "\n",
    "#construct the transformation matrix from the answers.\n",
    "transformation = np.vstack( [ab.T, cd.T] )\n",
    "print(\"transformation:\\n\", \n",
    "      transformation)"
   ]
  },
  {
   "cell_type": "markdown",
   "metadata": {},
   "source": [
    "I get the same result as method 1. This method is arguably simpler and utilises both functions.\n",
    "\n",
    "$$\\begin{pmatrix}\n",
    "  a & b \\\\\n",
    "  c & d\n",
    "  \\end{pmatrix}\n",
    "  =\n",
    "  \\begin{pmatrix}\n",
    "  1.25 & 0.75 \\\\\n",
    "  0.75 & 1.25\n",
    "  \\end{pmatrix}$$\n"
   ]
  },
  {
   "cell_type": "markdown",
   "metadata": {},
   "source": [
    "2b) Test your approach on the following points. Explain what happens. "
   ]
  },
  {
   "cell_type": "code",
   "execution_count": 338,
   "metadata": {
    "collapsed": true,
    "scrolled": true
   },
   "outputs": [],
   "source": [
    "x1 = [\n",
    " [ 1,  2],\n",
    " [ 2,  4],\n",
    " [-1, -2],\n",
    " [ 0,  0]]\n",
    "y1 = [\n",
    " [ 5, 10],\n",
    " [10, 20],\n",
    " [-1, -2],\n",
    " [-2, -4]]"
   ]
  },
  {
   "cell_type": "code",
   "execution_count": 339,
   "metadata": {
    "collapsed": false
   },
   "outputs": [
    {
     "name": "stdout",
     "output_type": "stream",
     "text": [
      "[[  1.   2.   1.   0.]\n",
      " [ nan  nan -inf  inf]]\n"
     ]
    },
    {
     "name": "stderr",
     "output_type": "stream",
     "text": [
      "C:\\Users\\Alexander\\Anaconda3\\lib\\site-packages\\ipykernel\\__main__.py:36: RuntimeWarning: divide by zero encountered in true_divide\n",
      "C:\\Users\\Alexander\\Anaconda3\\lib\\site-packages\\ipykernel\\__main__.py:36: RuntimeWarning: invalid value encountered in true_divide\n"
     ]
    }
   ],
   "source": [
    "#Initialise x\n",
    "x = np.matrix([\n",
    "            [1., 2.],\n",
    "            [2., 4.]\n",
    "            ])\n",
    "\n",
    "#Initialise B\n",
    "B = np.matrix([\n",
    "            [5., 10.],\n",
    "            [10., 20.]\n",
    "            ])\n",
    "\n",
    "identity = np.matrix([\n",
    "            [1., 0.],\n",
    "            [0., 1.,]\n",
    "             ])\n",
    "\n",
    "print(reduced_row_echelon( x, identity ))"
   ]
  },
  {
   "cell_type": "markdown",
   "metadata": {},
   "source": [
    "Here we can see that attempting to perform the same method on these points will not work, this is because none of them exhibit linear independance. all the points can be scaled to form the next (apart from 0,0), and so a tranformation is not possible to be found here using these methods."
   ]
  }
 ],
 "metadata": {
  "anaconda-cloud": {},
  "kernelspec": {
   "display_name": "Python [conda root]",
   "language": "python",
   "name": "conda-root-py"
  },
  "language_info": {
   "codemirror_mode": {
    "name": "ipython",
    "version": 3
   },
   "file_extension": ".py",
   "mimetype": "text/x-python",
   "name": "python",
   "nbconvert_exporter": "python",
   "pygments_lexer": "ipython3",
   "version": "3.5.2"
  }
 },
 "nbformat": 4,
 "nbformat_minor": 0
}
